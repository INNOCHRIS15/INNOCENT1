{
 "cells": [
  {
   "cell_type": "markdown",
   "id": "aaead532-9e98-4924-a308-6de4983df8ec",
   "metadata": {},
   "source": [
    "# Q22 "
   ]
  },
  {
   "cell_type": "code",
   "execution_count": 2,
   "id": "e7fad644-3f0f-48e3-adb3-3454afb62d5d",
   "metadata": {},
   "outputs": [
    {
     "name": "stdout",
     "output_type": "stream",
     "text": [
      "   id\n",
      "1   2\n",
      "3   4\n"
     ]
    }
   ],
   "source": [
    "\n",
    "import pandas as pd\n",
    "\n",
    "\n",
    "data = {\n",
    "    'id': [1, 2, 3, 4],\n",
    "    'recordDate': ['2015-01-01', '2015-01-02', '2015-01-03', '2015-01-04'],\n",
    "    'temperature': [10, 25, 20, 30]\n",
    "}\n",
    "\n",
    "\n",
    "weather_df = pd.DataFrame(data)\n",
    "\n",
    "\n",
    "weather_df['recordDate'] = pd.to_datetime(weather_df['recordDate'])\n",
    "\n",
    "\n",
    "weather_df = weather_df.sort_values(by='recordDate')\n",
    "\n",
    "\n",
    "weather_df['temp_diff'] = weather_df['temperature'].diff()\n",
    "\n",
    "\n",
    "result = weather_df[weather_df['temp_diff'] > 0][['id']]\n",
    "\n",
    "# Display the result\n",
    "print(result)\n"
   ]
  }
 ],
 "metadata": {
  "kernelspec": {
   "display_name": "Python 3 (ipykernel)",
   "language": "python",
   "name": "python3"
  },
  "language_info": {
   "codemirror_mode": {
    "name": "ipython",
    "version": 3
   },
   "file_extension": ".py",
   "mimetype": "text/x-python",
   "name": "python",
   "nbconvert_exporter": "python",
   "pygments_lexer": "ipython3",
   "version": "3.12.4"
  }
 },
 "nbformat": 4,
 "nbformat_minor": 5
}
